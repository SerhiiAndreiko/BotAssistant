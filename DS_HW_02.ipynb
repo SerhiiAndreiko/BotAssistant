{
  "nbformat": 4,
  "nbformat_minor": 0,
  "metadata": {
    "colab": {
      "provenance": [],
      "authorship_tag": "ABX9TyNYU8Ub/rB92t3QxSomrG06",
      "include_colab_link": true
    },
    "kernelspec": {
      "name": "python3",
      "display_name": "Python 3"
    },
    "language_info": {
      "name": "python"
    }
  },
  "cells": [
    {
      "cell_type": "markdown",
      "metadata": {
        "id": "view-in-github",
        "colab_type": "text"
      },
      "source": [
        "<a href=\"https://colab.research.google.com/github/SerhiiAndreiko/BotAssistant/blob/main/DS_HW_02.ipynb\" target=\"_parent\"><img src=\"https://colab.research.google.com/assets/colab-badge.svg\" alt=\"Open In Colab\"/></a>"
      ]
    },
    {
      "cell_type": "code",
      "execution_count": null,
      "metadata": {
        "id": "iZgARxBsElUQ"
      },
      "outputs": [],
      "source": [
        "import pandas as pd\n",
        "import matplotlib.pyplot as plt\n"
      ]
    },
    {
      "cell_type": "code",
      "source": [
        "tmp = pd.read_html(\"https://uk.wikipedia.org/wiki/%D0%9D%D0%B0%D1%81%D0%B5%D0%BB%D0%B5%D0%BD%D0%BD%D1%8F_%D0%A3%D0%BA%D1%80%D0%B0%D1%97%D0%BD%D0%B8\")\n",
        "df = tmp[0]\n",
        "list(df.head())\n"
      ],
      "metadata": {
        "id": "QWf6Ge7KHSOA",
        "colab": {
          "base_uri": "https://localhost:8080/"
        },
        "outputId": "6c070b59-e23f-46a0-9218-d8545a432efc"
      },
      "execution_count": 2,
      "outputs": [
        {
          "output_type": "execute_result",
          "data": {
            "text/plain": [
              "['Населення України', 'Населення України.1']"
            ]
          },
          "metadata": {},
          "execution_count": 2
        }
      ]
    }
  ]
}